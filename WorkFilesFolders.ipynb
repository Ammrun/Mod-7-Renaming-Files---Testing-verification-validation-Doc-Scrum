{
  "nbformat": 4,
  "nbformat_minor": 0,
  "metadata": {
    "colab": {
      "provenance": [],
      "authorship_tag": "ABX9TyNE1Jp1XX7TEW8BHEuKCxuN",
      "include_colab_link": true
    },
    "kernelspec": {
      "name": "python3",
      "display_name": "Python 3"
    },
    "language_info": {
      "name": "python"
    }
  },
  "cells": [
    {
      "cell_type": "markdown",
      "metadata": {
        "id": "view-in-github",
        "colab_type": "text"
      },
      "source": [
        "<a href=\"https://colab.research.google.com/github/cmcntsh/exerPythFileRename2/blob/main/WorkFilesFolders.ipynb\" target=\"_parent\"><img src=\"https://colab.research.google.com/assets/colab-badge.svg\" alt=\"Open In Colab\"/></a>"
      ]
    },
    {
      "cell_type": "markdown",
      "source": [
        "# Working with files and folders\n",
        "\n",
        "The material at the beginning of this notebook will prepare you to complete this tutorial (https://www.youtube.com/watch?v=ve2pmm5JqmI) using Google Colab.\n",
        "\n",
        "## Working with folders and files on your computer\n",
        "\n",
        "### Graphical User Interface (GUI)\n",
        "\n",
        "* Windows - Add new folders or files using Windows Explorer or right click menu\n",
        "* Mac - Finder-File-New Folder\n",
        "* Create new folders on your mac (10 min) https://www.youtube.com/watch?v=fIPtINwnpo4\n",
        "* Create a new text file in a folder on a mac (10 min) https://www.youtube.com/watch?v=t1JfsDs-abM (Something so simple in Windows seems overly complicated on a Mac.)\n",
        "\n",
        "### Command Line (Windows) or Terminal (Mac)\n",
        "\n",
        "* Navigate to the folder where you want to create the files.\n",
        "* Windows - Click in the address bar and type 'cmd' and hit enter. In the command line type 'echo.>testfile.txt' and a new file will appear in folder.\n",
        "* Three ways to open a terminal in Mac (2 minutes) https://www.youtube.com/watch?v=8OFD_F5L_vk\n",
        "\n",
        "## Working with folders and files on GitHub GUI\n",
        "\n",
        "* You can create text files directly on GitHub\n",
        "![image.png](data:image/png;base64,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)\n",
        "\n",
        "* You just type out the name of the file (including any desired folders separated by forward slashes / ) and commit the change for each file.\n",
        "\n",
        "## Working with folders and files on Google Colab\n",
        "\n",
        "### Graphical User Interface (GUI)\n",
        "\n",
        "* Files available in Google Colab can be seen by clicking on the File icon on the left side of the window.\n",
        "![image.png](data:image/png;base64,iVBORw0KGgoAAAANSUhEUgAAACwAAAA1CAYAAAA6XQlSAAAAAXNSR0IArs4c6QAAAARnQU1BAACxjwv8YQUAAAAJcEhZcwAADsMAAA7DAcdvqGQAAALDSURBVGhD7ZlLrjFBFMePtxhgA4amEiZiDTZiYMgCJGYMDWyDJTAQI4mpGNkAgnh/3/13qkRfVdUP3Vrn9i/p3OrSXefXp6qOxw39+4G+mMViQfl8np0Rhdlf3xAIu00g7DZ/S/h+v9PlcqHj8UiHw4H2+z3tdjvtQBt9eA3X4FonsCyMsg0ByOA4nU50vV41oeeSjjb68Bqu4dfj3ndKvyVhLgoBOxnDPVweY9nBlDACcVEn3hgxBhe3+uCGwphSOwObgScCMcyiFMa0YdO4Dd+YZpAK883yKRDLTKaFwpiqT2T2N4hptPSEwl7IcoxivwhjLbmxwcyC2Kr1rBNGuTmfz+zMO+AgK586YSx6VZ2dzWZUrVapUCi8HKVSiQaDgWN1WrYBdcKqqdhut9Tv92m1WrEePQjQarVoOBw6Ii1zeXyn40Vcxnq9pnq9rrV7vR5ls1mtzZlOp9RoNGiz2bAeOblcjtrtNhWLRdYjJpVK0XK5FH+nu91urGWPcrlM3W6XMpkM65GDWcJsYdZUiJwcEwaQHo/HNJ/PpcdoNNLWPD5+GlUjpbCXpUyGyOkh7MRGcRqRk3+F/cJDOBQKsdb3IHLyr3A4/H2rQ+T06IlEIqz1PYicfCes+31Y9WUTb6PNZpMmkwnreY9KpUKdTofS6TTr0YPlgM8Syt+HY7EYa72CgWu1mvbB5V0wBsaSyQKZiy7DaCLLT12egOqA7OKvMsO4IB6PszPvgIOszL7UDUyFlyUOsVVLU2iWTCZZ6/MYxRYK4ym9kEZMo9mVvhqNRimRSLAz90EsxDRC+ThYS5/INGKo1u0z6vz/gKdGiXFjI2JMjG0msxxTFnxgTJus3FgBY2AsO4mwdDWmjYvbyTju4aJml8BvLEdFdrg4l8eUQuY5+2ijj29efj3ufWeWgn+Ou00g7DaBsNsEwu5C9B/eNZ2aJdLGdgAAAABJRU5ErkJggg==)\n",
        "* You'll see a sample_data folder.\n",
        "![image.png](data:image/png;base64,iVBORw0KGgoAAAANSUhEUgAAATQAAAAtCAYAAAAgL5d4AAAAAXNSR0IArs4c6QAAAARnQU1BAACxjwv8YQUAAAAJcEhZcwAADsMAAA7DAcdvqGQAAAf6SURBVHhe7Z1ZyE3fG8cf85wpZCpCLpBkvpAyDxEl04VIpMxuZI4LRKHciEzJlKEIRcp4gcicC1PmMs8z///v87xn6/35nXPeM+zzOuf4fmo7++y191prr2N9zzOsfd4S//sHE0KIHOXmzZvWrFkz3y/p/wohRB4gQRNC5A0SNCFE3iBBE0LkDRI0IUTeEDXL+erVq8ieEEIUDTLy48cP+/nz56/XZChZsqSVKlXq12uJEiUiJfGpXr26spxCiHBAvL5+/WofP360L1++2Ldv35IWM+AarqUO6qJO6k4WCZoQIiUQnc+fP7sQhQ11UjdtJIMETQiRFFhOnz59yoiQ/Q5t0Fai1poETQiRMAgLllMqbmWq0BZtJiJqEjQhREIEYvanSETUJGhCiIRINp6VCYrqgwRNCFEkCElxupmxoA/xRC2r1qFdu3bNdu7c6Wnb32FdSu/eva1Hjx4Jr1ERQqRPGK7m1atXbfHixb4/e/Zsa9Wqle+nSvny5X29WtauQ3v37p0dPHgwqpgBunv48GE7evSo7wshiodEgvHxeP/+vW3cuNEePXrkG/scS4dYfcoaC+3Nmze2evXqUNquWLGiDRs2zFq2bBk5kr28fv3apk6dalOmTLG2bdtGjqbPhQsXbO/evTZv3jz/NhMiFZCHWEZGoiBe8+fPt/Pnz/v7du3a2aJFi6xy5cr+PlWY5zVq1AjHQsOiOnfuXFZaS3wAWHv0URTN3bt3bdSoUf4qRGHStc4A4RozZozVr1/fN/bTFTOI1reUBY3g3JEjR7LWBWRBXjYEMYXIZcKaQ8TMtm/f7lu68bOAaH1LO4aWq3Gte/fu2cSJE61jx442ePBgv49ggHiebNOmTdarVy/r3LmzzZ07116+fOllWDGTJk3yD6Zfv35evmrVKnv48KEHO6kPd/fSpUt+Pi4l7uSuXbv8OOULFy7049FgHI8dO/brXOp89uxZpDQ29C9of8KECXb58uVISQFPnjzxcvrLfW3bts2/4fbv329Dhgyx69ev+yvvId4YiL+HMCy0TBGqhRbABMw1UcOnX7FihWdMT58+bUuWLPFAJVlWINN6+/ZtF6ETJ064mczkDgbwwYMHnmndvXu3bd261c6cOWMzZ860oUOH2qlTp1yM1q1b98vlJT5IMHTt2rV24MABF4sNGzZE/UCoi3pXrlxpJ0+etBYtWrhgxssykcZes2aN1a5d2z8HBPPWrVuR0oL7Xbp0qbVv397vd8uWLV732bNnbeDAgd4e7fDKeyhqDMTfQVgWGlnOESNG+MZ+GGTEQoNcE7Xv37+7CDRv3tzKlCnjAUWCljVr1vT+Y7HNmTPHqlatamXLlrUOHTq42AWZmYYNG7rlQlCycePG1qlTJxeL1q1b+/lt2rRxMXv+/LmfX6VKFRcK6qtVq5YNHz7cLagXL154eQCiheDxoderV8/KlStnPXv29ETJ06dPI2f9F8QSAcPCoq06derYoEGDIqVmFSpU8CAsfSDVTTkC9rsVF5DIGAiRKPyfCTvLGYtQBC2AiZALgsak79Kli02bNs2WLVvm2ZcmTZq4FYLlVbp0aduxY4eLFpnH8ePHu2US3Bu/2cQGnI9IxPsNJ84tXNagQQPvw4cPHyJHCkDQcF3JetIuW9++fe3+/ftxLSNcQTKZiE8A/QlgH4El44n7SL1YWwh7NBIZAyGykVAEjQnAolesiWCiZzNM8JEjR3ocjMlKPIm4E64kk5bJjruF28XyB1zFMEFIYgkU1tDmzZu93WDDasMSTBUsQSw00uW4mtQ5evToSOl/KY4xEH8PmcpyRiNt9QnELJdW8OPCEbTHSurevbstX77cGjVqZBcvXvTsKFYSLhurkCGedZQKWFS0U6lSpciRAnAxq1WrZjdu3IgcKbB6i4pjsBYH645YXUDhPr99+9YtuG7durmLTZ3x7qk4xkDkBmEZKJnIckbrW9q9zcXHkXD1SAoQIEcsyCIygfnWwHpD6I4fP+7Cd+fOHQ/gpwNCs2/fPo8bsE8iAcuQmF1hiHUxnrh6V65ccREhzrVgwYKYWVHgW69p06Ye1Me1fPz4sVtWAQgl17NukDV6ZFEPHToUKTV3VXExEVpii5kYA5GbFA5dZBvR+payoKGOxFdy8dlKYlizZs2yPXv2eExp3LhxLiRdu3Z1C4Z4EW5anz59PMbGPXI83kOx8UAcsLzGjh3rY4ZwEviP9oFgRdE+IkYgnuwl7jHXxwI3FZeZxAF9xb0k6B9AgmHGjBm2fv16t0ixRAcMGOBWHaKJoHEdy1E4JxNjIHKTsCy0TGQ5o/UtLx99AlylyZMn/ytQ/ifAMiKDOn369LTiYKx/435YT1aYunXr+rilU7cQsUAe/opHn8IGtcUCCAvqCuvbJRtAsEgOFE4WsKWbMBAiHnhfYc7LsKBP0TzDrJnxuGX9+/d31U0X6qAu6hRCpEe6cbRMZDlj9Ul/l1MIUSTETsl+ZwNYZ8SNQX+XUwiRNAhINoRw6EMgZtGQoAkhEiKekBQXRfVBgiaESAjiVn/yx0KDn92OhwRNCJEwgagVp/tJW4mIGUjQhBBJgbDwVEtxLOegDdpKRMxAgiaESAniWVhOmRA26qTuZON2EjQhRMpgOSE6rP3kmWGEKBV3lGu4ljqoizoTtcoKE3UdmhBC5ApahyaEyEskaEKIvEGCJoTIGyRoQoi8QYImhMgbJGhCiDzB7P8eYn4pBbgWBQAAAABJRU5ErkJggg==)\n",
        "* The path for any folder or file can be copied by clicking on the three vertical dots and selecting Copy path. That's useful for working with the folders and files in your code.\n",
        "* You can manually create folders and files in the Google Colab GUI.\n",
        "* Google Colab - Creating Folders (4 min) https://www.youtube.com/watch?v=hZMS5k34xfA\n",
        "\n",
        "### Terminal\n",
        "\n",
        "* You don't access the Terminal in Google Colab through a separate window. You can pass commands to the terminal by adding an exclamation point (!) before the commands in a code cell. (See the Google Colab - Creating Folders video linked above.)\n",
        "\n",
        "## Clone a GitHub repository in Google Colab"
      ],
      "metadata": {
        "id": "Nrt2nfoP8j1I"
      }
    },
    {
      "cell_type": "code",
      "execution_count": null,
      "metadata": {
        "id": "YKN9TdvX8UFH"
      },
      "outputs": [],
      "source": [
        "!git clone https://github.com/cmcntsh/exerPythFileRename2.git # replace the address shown with the address to your own repository"
      ]
    },
    {
      "cell_type": "markdown",
      "source": [
        "# Get the path for the original_files folder"
      ],
      "metadata": {
        "id": "4sq_KTq9rD4D"
      }
    },
    {
      "cell_type": "code",
      "source": [
        "original_files_path = '[paste path here]'"
      ],
      "metadata": {
        "id": "JeVCvIUNrQUl"
      },
      "execution_count": null,
      "outputs": []
    },
    {
      "cell_type": "markdown",
      "source": [
        "# Copy the original files to a new directory\n",
        "\n",
        "* Copying your original files to a new directory, then working on the new directory will preserve your originals in case you make a mistake and want to start over."
      ],
      "metadata": {
        "id": "MPgjTQ3H1mHA"
      }
    },
    {
      "cell_type": "code",
      "source": [
        "import shutil\n",
        "import os\n",
        "\n",
        "copy_files_path = original_files_path.replace('original_files', 'copy_files')\n",
        "print(copy_files_path)\n",
        "\n",
        "os.mkdir(copy_files_path)\n",
        "\n",
        "os.chdir(original_files_path)\n",
        "for f in os.listdir():\n",
        "  print(f)\n",
        "  shutil.copy(f, copy_files_path)"
      ],
      "metadata": {
        "id": "lBWda0U61-LZ"
      },
      "execution_count": null,
      "outputs": []
    },
    {
      "cell_type": "markdown",
      "source": [
        "# Delete the new directory (Skip this step!)\n",
        "\n",
        "* Only run the code cell below if you want to delete the new directory and start over from scratch."
      ],
      "metadata": {
        "id": "8CTdJmmX70vl"
      }
    },
    {
      "cell_type": "code",
      "source": [
        "import shutil\n",
        "\n",
        "shutil.rmtree(copy_files_path)"
      ],
      "metadata": {
        "id": "W6C8LsqG8H4f"
      },
      "execution_count": null,
      "outputs": []
    },
    {
      "cell_type": "markdown",
      "source": [
        "# Follow the tutorial\n",
        "\n",
        "* Follow along with the tutorial at /content/exerPythFileRename2/original_files\n",
        "* Create a new code cell each time he updates the code in the tutorial and enter and run the updated code in the new cell."
      ],
      "metadata": {
        "id": "KFQ4xx0Wr8L7"
      }
    },
    {
      "cell_type": "code",
      "source": [
        "import os"
      ],
      "metadata": {
        "id": "bqresO_fsQqy"
      },
      "execution_count": null,
      "outputs": []
    },
    {
      "cell_type": "code",
      "source": [
        "# See the current working directory\n",
        "!pwd"
      ],
      "metadata": {
        "id": "9Gsk9qN8tLYC"
      },
      "execution_count": null,
      "outputs": []
    },
    {
      "cell_type": "code",
      "source": [
        "os.chdir(copy_files_path)"
      ],
      "metadata": {
        "id": "XiIFOXqptDk-"
      },
      "execution_count": null,
      "outputs": []
    },
    {
      "cell_type": "code",
      "source": [
        "# See the current working directory after running the code cell above.\n",
        "!pwd"
      ],
      "metadata": {
        "id": "vdq3VWrWtWmE"
      },
      "execution_count": null,
      "outputs": []
    },
    {
      "cell_type": "code",
      "source": [
        "print(os.getcwd())"
      ],
      "metadata": {
        "id": "klt5Y58xtpPG"
      },
      "execution_count": null,
      "outputs": []
    },
    {
      "cell_type": "code",
      "source": [
        "for f in os.listdir():\n",
        "  print(f)"
      ],
      "metadata": {
        "id": "un3vItOBtun2"
      },
      "execution_count": null,
      "outputs": []
    },
    {
      "cell_type": "code",
      "source": [
        "for f in os.listdir():\n",
        "  print(os.path.splitext(f))"
      ],
      "metadata": {
        "id": "ba3U9jENt8rY"
      },
      "execution_count": null,
      "outputs": []
    },
    {
      "cell_type": "code",
      "source": [
        "for f in os.listdir():\n",
        "  file_name, file_ext = os.path.splitext(f)\n",
        "  print(file_name)"
      ],
      "metadata": {
        "id": "J4kgL7jAu3Q0"
      },
      "execution_count": null,
      "outputs": []
    },
    {
      "cell_type": "code",
      "source": [
        "for f in os.listdir():\n",
        "  file_name, file_ext = os.path.splitext(f)\n",
        "  print(file_name.split('-'))"
      ],
      "metadata": {
        "id": "Z43VSguDvECu"
      },
      "execution_count": null,
      "outputs": []
    },
    {
      "cell_type": "code",
      "source": [
        "for f in os.listdir():\n",
        "  f_name, f_ext = os.path.splitext(f)\n",
        "  f_title, f_course, f_num = f_name.split('-')\n",
        "  print('{} -{}- {}{}'.format(f_num, f_course, f_title, f_ext))"
      ],
      "metadata": {
        "id": "SZ2rvKAqvZHO"
      },
      "execution_count": null,
      "outputs": []
    },
    {
      "cell_type": "code",
      "source": [
        "for f in os.listdir():\n",
        "  f_name, f_ext = os.path.splitext(f)\n",
        "  f_title, f_course, f_num = f_name.split('-')\n",
        "\n",
        "  f_title = f_title.strip()\n",
        "  f_course = f_course.strip()\n",
        "  f_num = f_num.strip()[1:].zfill(2)\n",
        "  print('{}-{}-{}{}'.format(f_num, f_course, f_title, f_ext))"
      ],
      "metadata": {
        "id": "hGvihmJKv5pi"
      },
      "execution_count": null,
      "outputs": []
    },
    {
      "cell_type": "code",
      "source": [
        "for f in os.listdir():\n",
        "  f_name, f_ext = os.path.splitext(f)\n",
        "  f_title, f_course, f_num = f_name.split('-')\n",
        "\n",
        "  f_title = f_title.strip()\n",
        "  f_course = f_course.strip()\n",
        "  f_num = f_num.strip()[1:].zfill(2)\n",
        "  print('{}-{}{}'.format(f_num, f_title, f_ext))"
      ],
      "metadata": {
        "id": "OrbUgNqHyadb"
      },
      "execution_count": null,
      "outputs": []
    },
    {
      "cell_type": "code",
      "source": [
        "for f in os.listdir():\n",
        "  f_name, f_ext = os.path.splitext(f)\n",
        "  f_title, f_course, f_num = f_name.split('-')\n",
        "\n",
        "  f_title = f_title.strip()\n",
        "  f_course = f_course.strip()\n",
        "  f_num = f_num.strip()[1:].zfill(2)\n",
        "\n",
        "  new_name = '{}-{}{}'.format(f_num, f_title, f_ext)\n",
        "\n",
        "  os.rename(f, new_name)"
      ],
      "metadata": {
        "id": "5Z5NANye54hd"
      },
      "execution_count": null,
      "outputs": []
    }
  ]
}